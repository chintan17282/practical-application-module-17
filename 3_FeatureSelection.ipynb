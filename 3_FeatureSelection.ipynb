{
 "cells": [
  {
   "cell_type": "code",
   "execution_count": 139,
   "id": "caa7ddb3-1407-45c4-bfc9-0bfef64c39ae",
   "metadata": {},
   "outputs": [],
   "source": [
    "import pandas as pd\n",
    "import seaborn as sns\n",
    "import matplotlib.pyplot as plt\n",
    "import plotly.express as px\n",
    "import numpy as np\n",
    "\n",
    "from sklearn.preprocessing import StandardScaler, PolynomialFeatures, OneHotEncoder, OrdinalEncoder\n",
    "from sklearn.compose import make_column_selector, make_column_transformer, ColumnTransformer\n",
    "from sklearn.model_selection import train_test_split, GridSearchCV\n",
    "from sklearn.pipeline import Pipeline\n",
    "from sklearn.linear_model import LogisticRegression\n",
    "from sklearn.metrics import ConfusionMatrixDisplay\n",
    "from sklearn.metrics import accuracy_score, recall_score, precision_score, f1_score, roc_auc_score\n",
    "from sklearn.feature_selection import SelectFromModel\n",
    "from pprint import pprint\n",
    "import warnings\n",
    "warnings.filterwarnings(\"ignore\") "
   ]
  },
  {
   "cell_type": "markdown",
   "id": "e55f2586-2c74-43d2-b6ed-dd6acf662f86",
   "metadata": {},
   "source": [
    "# 1. Read Data"
   ]
  },
  {
   "cell_type": "code",
   "execution_count": 2,
   "id": "9926d6e7-50e3-4f7e-8ce7-2cca066dc7d6",
   "metadata": {},
   "outputs": [],
   "source": [
    "df = pd.read_csv('bank+marketing/bank_clean.csv')"
   ]
  },
  {
   "cell_type": "markdown",
   "id": "2219f0de-63ba-41fb-aceb-026342c5080c",
   "metadata": {},
   "source": [
    "# 2. Train Test Split"
   ]
  },
  {
   "cell_type": "code",
   "execution_count": 147,
   "id": "8dbf24d8-6b42-43ef-9840-97606441b007",
   "metadata": {},
   "outputs": [],
   "source": [
    "X_train, X_test, y_train, y_test = train_test_split(df.drop(['y'], axis=1), df['y'], test_size = 0.3, random_state = 42)"
   ]
  },
  {
   "cell_type": "markdown",
   "id": "c5cf83f7-7b52-4490-bac4-27587a9d9b0e",
   "metadata": {},
   "source": [
    "# 3. Column Transformation\n",
    "- OneHotEncoder for 'job','marital', 'contact', 'default', 'housing', 'loan', 'contact', 'month','poutcome'\n",
    "- OrdinalEncoder for education"
   ]
  },
  {
   "cell_type": "code",
   "execution_count": 148,
   "id": "18c314e8-29e7-4678-aa24-ad3618e16c0f",
   "metadata": {},
   "outputs": [],
   "source": [
    "\n",
    "education_categories = [['illiterate', 'basic.4y', 'basic.6y', 'basic.9y', 'high.school', 'university.degree','professional.course']]\n",
    "one_hot_encoding_features = ['job','marital', 'contact', 'default', 'housing', 'loan', 'month','poutcome']\n",
    "\n",
    "transformer = make_column_transformer(    \n",
    "    (OneHotEncoder(),one_hot_encoding_features),\n",
    "    (OrdinalEncoder(categories=education_categories, unknown_value=-1, handle_unknown='use_encoded_value'),['education']),\n",
    "    remainder = StandardScaler()\n",
    ")"
   ]
  },
  {
   "cell_type": "markdown",
   "id": "34a08249-47d3-4760-80b5-5048de92449b",
   "metadata": {},
   "source": [
    "# 4. Pipeline"
   ]
  },
  {
   "cell_type": "code",
   "execution_count": 149,
   "id": "15970204-31df-4825-958f-7b9453cbc4b7",
   "metadata": {},
   "outputs": [],
   "source": [
    "pipeline = Pipeline([\n",
    "    ('transformer', transformer), \n",
    "    ('feature_selection', SelectFromModel(estimator=LogisticRegression(random_state=43, max_iter = 1000))),\n",
    "    ('classifier', LogisticRegression(penalty='l2', solver='liblinear', random_state = 43, max_iter = 1000, class_weight='balanced'))\n",
    "])"
   ]
  },
  {
   "cell_type": "markdown",
   "id": "89c953de-b783-4280-a238-4fe77fb30a29",
   "metadata": {},
   "source": [
    "## 4.1 GridSearchCV"
   ]
  },
  {
   "cell_type": "code",
   "execution_count": 150,
   "id": "8c832433-1536-4cbe-bbc2-aae22b87b0f7",
   "metadata": {},
   "outputs": [
    {
     "name": "stdout",
     "output_type": "stream",
     "text": [
      "[{'classifier__C': [0.001, 0.01, 0.1, 1, 10, 100],\n",
      "  'feature_selection__estimator__C': [0.001, 0.01, 0.1, 1, 10, 100],\n",
      "  'feature_selection__estimator__penalty': ['l1', 'l2'],\n",
      "  'feature_selection__estimator__solver': ['liblinear']},\n",
      " {'classifier__C': [0.001, 0.01, 0.1, 1, 10, 100],\n",
      "  'feature_selection__estimator__C': [0.001, 0.01, 0.1, 1, 10, 100],\n",
      "  'feature_selection__estimator__penalty': ['None', 'l2'],\n",
      "  'feature_selection__estimator__solver': ['lbfgs',\n",
      "                                           'newton-cg',\n",
      "                                           'newton-cholesky']}]\n"
     ]
    }
   ],
   "source": [
    "params = [\n",
    "    {\n",
    "        \"feature_selection__estimator__penalty\": ['l1', 'l2'],\n",
    "        'feature_selection__estimator__solver': ['liblinear'],\n",
    "        \"feature_selection__estimator__C\": [10**n for n in range(-3, 3)],\n",
    "        \"classifier__C\": [10**n for n in range(-3, 3)]\n",
    "    },\n",
    "    {\n",
    "        \"feature_selection__estimator__penalty\": ['None', 'l2'],\n",
    "        'feature_selection__estimator__solver': ['lbfgs','newton-cg', 'newton-cholesky'],\n",
    "        \"feature_selection__estimator__C\": [10**n for n in range(-3, 3)],    \n",
    "        \"classifier__C\": [10**n for n in range(-3, 3)]\n",
    "    }\n",
    "]\n",
    "pprint(params)"
   ]
  },
  {
   "cell_type": "code",
   "execution_count": 151,
   "id": "df79a7bb-7c45-4ec7-8cdc-a91eb6e61bed",
   "metadata": {},
   "outputs": [],
   "source": [
    "cv = GridSearchCV(pipeline, param_grid=params)"
   ]
  },
  {
   "cell_type": "markdown",
   "id": "a8f6f21b-2a11-4927-9683-ef73560bc981",
   "metadata": {},
   "source": [
    "# 5. Fitting the LogisticRegression Model"
   ]
  },
  {
   "cell_type": "code",
   "execution_count": 152,
   "id": "83942554-1237-4c36-a500-0bafa3689de9",
   "metadata": {},
   "outputs": [
    {
     "data": {
      "text/html": [
       "<style>#sk-container-id-7 {\n",
       "  /* Definition of color scheme common for light and dark mode */\n",
       "  --sklearn-color-text: black;\n",
       "  --sklearn-color-line: gray;\n",
       "  /* Definition of color scheme for unfitted estimators */\n",
       "  --sklearn-color-unfitted-level-0: #fff5e6;\n",
       "  --sklearn-color-unfitted-level-1: #f6e4d2;\n",
       "  --sklearn-color-unfitted-level-2: #ffe0b3;\n",
       "  --sklearn-color-unfitted-level-3: chocolate;\n",
       "  /* Definition of color scheme for fitted estimators */\n",
       "  --sklearn-color-fitted-level-0: #f0f8ff;\n",
       "  --sklearn-color-fitted-level-1: #d4ebff;\n",
       "  --sklearn-color-fitted-level-2: #b3dbfd;\n",
       "  --sklearn-color-fitted-level-3: cornflowerblue;\n",
       "\n",
       "  /* Specific color for light theme */\n",
       "  --sklearn-color-text-on-default-background: var(--sg-text-color, var(--theme-code-foreground, var(--jp-content-font-color1, black)));\n",
       "  --sklearn-color-background: var(--sg-background-color, var(--theme-background, var(--jp-layout-color0, white)));\n",
       "  --sklearn-color-border-box: var(--sg-text-color, var(--theme-code-foreground, var(--jp-content-font-color1, black)));\n",
       "  --sklearn-color-icon: #696969;\n",
       "\n",
       "  @media (prefers-color-scheme: dark) {\n",
       "    /* Redefinition of color scheme for dark theme */\n",
       "    --sklearn-color-text-on-default-background: var(--sg-text-color, var(--theme-code-foreground, var(--jp-content-font-color1, white)));\n",
       "    --sklearn-color-background: var(--sg-background-color, var(--theme-background, var(--jp-layout-color0, #111)));\n",
       "    --sklearn-color-border-box: var(--sg-text-color, var(--theme-code-foreground, var(--jp-content-font-color1, white)));\n",
       "    --sklearn-color-icon: #878787;\n",
       "  }\n",
       "}\n",
       "\n",
       "#sk-container-id-7 {\n",
       "  color: var(--sklearn-color-text);\n",
       "}\n",
       "\n",
       "#sk-container-id-7 pre {\n",
       "  padding: 0;\n",
       "}\n",
       "\n",
       "#sk-container-id-7 input.sk-hidden--visually {\n",
       "  border: 0;\n",
       "  clip: rect(1px 1px 1px 1px);\n",
       "  clip: rect(1px, 1px, 1px, 1px);\n",
       "  height: 1px;\n",
       "  margin: -1px;\n",
       "  overflow: hidden;\n",
       "  padding: 0;\n",
       "  position: absolute;\n",
       "  width: 1px;\n",
       "}\n",
       "\n",
       "#sk-container-id-7 div.sk-dashed-wrapped {\n",
       "  border: 1px dashed var(--sklearn-color-line);\n",
       "  margin: 0 0.4em 0.5em 0.4em;\n",
       "  box-sizing: border-box;\n",
       "  padding-bottom: 0.4em;\n",
       "  background-color: var(--sklearn-color-background);\n",
       "}\n",
       "\n",
       "#sk-container-id-7 div.sk-container {\n",
       "  /* jupyter's `normalize.less` sets `[hidden] { display: none; }`\n",
       "     but bootstrap.min.css set `[hidden] { display: none !important; }`\n",
       "     so we also need the `!important` here to be able to override the\n",
       "     default hidden behavior on the sphinx rendered scikit-learn.org.\n",
       "     See: https://github.com/scikit-learn/scikit-learn/issues/21755 */\n",
       "  display: inline-block !important;\n",
       "  position: relative;\n",
       "}\n",
       "\n",
       "#sk-container-id-7 div.sk-text-repr-fallback {\n",
       "  display: none;\n",
       "}\n",
       "\n",
       "div.sk-parallel-item,\n",
       "div.sk-serial,\n",
       "div.sk-item {\n",
       "  /* draw centered vertical line to link estimators */\n",
       "  background-image: linear-gradient(var(--sklearn-color-text-on-default-background), var(--sklearn-color-text-on-default-background));\n",
       "  background-size: 2px 100%;\n",
       "  background-repeat: no-repeat;\n",
       "  background-position: center center;\n",
       "}\n",
       "\n",
       "/* Parallel-specific style estimator block */\n",
       "\n",
       "#sk-container-id-7 div.sk-parallel-item::after {\n",
       "  content: \"\";\n",
       "  width: 100%;\n",
       "  border-bottom: 2px solid var(--sklearn-color-text-on-default-background);\n",
       "  flex-grow: 1;\n",
       "}\n",
       "\n",
       "#sk-container-id-7 div.sk-parallel {\n",
       "  display: flex;\n",
       "  align-items: stretch;\n",
       "  justify-content: center;\n",
       "  background-color: var(--sklearn-color-background);\n",
       "  position: relative;\n",
       "}\n",
       "\n",
       "#sk-container-id-7 div.sk-parallel-item {\n",
       "  display: flex;\n",
       "  flex-direction: column;\n",
       "}\n",
       "\n",
       "#sk-container-id-7 div.sk-parallel-item:first-child::after {\n",
       "  align-self: flex-end;\n",
       "  width: 50%;\n",
       "}\n",
       "\n",
       "#sk-container-id-7 div.sk-parallel-item:last-child::after {\n",
       "  align-self: flex-start;\n",
       "  width: 50%;\n",
       "}\n",
       "\n",
       "#sk-container-id-7 div.sk-parallel-item:only-child::after {\n",
       "  width: 0;\n",
       "}\n",
       "\n",
       "/* Serial-specific style estimator block */\n",
       "\n",
       "#sk-container-id-7 div.sk-serial {\n",
       "  display: flex;\n",
       "  flex-direction: column;\n",
       "  align-items: center;\n",
       "  background-color: var(--sklearn-color-background);\n",
       "  padding-right: 1em;\n",
       "  padding-left: 1em;\n",
       "}\n",
       "\n",
       "\n",
       "/* Toggleable style: style used for estimator/Pipeline/ColumnTransformer box that is\n",
       "clickable and can be expanded/collapsed.\n",
       "- Pipeline and ColumnTransformer use this feature and define the default style\n",
       "- Estimators will overwrite some part of the style using the `sk-estimator` class\n",
       "*/\n",
       "\n",
       "/* Pipeline and ColumnTransformer style (default) */\n",
       "\n",
       "#sk-container-id-7 div.sk-toggleable {\n",
       "  /* Default theme specific background. It is overwritten whether we have a\n",
       "  specific estimator or a Pipeline/ColumnTransformer */\n",
       "  background-color: var(--sklearn-color-background);\n",
       "}\n",
       "\n",
       "/* Toggleable label */\n",
       "#sk-container-id-7 label.sk-toggleable__label {\n",
       "  cursor: pointer;\n",
       "  display: block;\n",
       "  width: 100%;\n",
       "  margin-bottom: 0;\n",
       "  padding: 0.5em;\n",
       "  box-sizing: border-box;\n",
       "  text-align: center;\n",
       "}\n",
       "\n",
       "#sk-container-id-7 label.sk-toggleable__label-arrow:before {\n",
       "  /* Arrow on the left of the label */\n",
       "  content: \"▸\";\n",
       "  float: left;\n",
       "  margin-right: 0.25em;\n",
       "  color: var(--sklearn-color-icon);\n",
       "}\n",
       "\n",
       "#sk-container-id-7 label.sk-toggleable__label-arrow:hover:before {\n",
       "  color: var(--sklearn-color-text);\n",
       "}\n",
       "\n",
       "/* Toggleable content - dropdown */\n",
       "\n",
       "#sk-container-id-7 div.sk-toggleable__content {\n",
       "  max-height: 0;\n",
       "  max-width: 0;\n",
       "  overflow: hidden;\n",
       "  text-align: left;\n",
       "  /* unfitted */\n",
       "  background-color: var(--sklearn-color-unfitted-level-0);\n",
       "}\n",
       "\n",
       "#sk-container-id-7 div.sk-toggleable__content.fitted {\n",
       "  /* fitted */\n",
       "  background-color: var(--sklearn-color-fitted-level-0);\n",
       "}\n",
       "\n",
       "#sk-container-id-7 div.sk-toggleable__content pre {\n",
       "  margin: 0.2em;\n",
       "  border-radius: 0.25em;\n",
       "  color: var(--sklearn-color-text);\n",
       "  /* unfitted */\n",
       "  background-color: var(--sklearn-color-unfitted-level-0);\n",
       "}\n",
       "\n",
       "#sk-container-id-7 div.sk-toggleable__content.fitted pre {\n",
       "  /* unfitted */\n",
       "  background-color: var(--sklearn-color-fitted-level-0);\n",
       "}\n",
       "\n",
       "#sk-container-id-7 input.sk-toggleable__control:checked~div.sk-toggleable__content {\n",
       "  /* Expand drop-down */\n",
       "  max-height: 200px;\n",
       "  max-width: 100%;\n",
       "  overflow: auto;\n",
       "}\n",
       "\n",
       "#sk-container-id-7 input.sk-toggleable__control:checked~label.sk-toggleable__label-arrow:before {\n",
       "  content: \"▾\";\n",
       "}\n",
       "\n",
       "/* Pipeline/ColumnTransformer-specific style */\n",
       "\n",
       "#sk-container-id-7 div.sk-label input.sk-toggleable__control:checked~label.sk-toggleable__label {\n",
       "  color: var(--sklearn-color-text);\n",
       "  background-color: var(--sklearn-color-unfitted-level-2);\n",
       "}\n",
       "\n",
       "#sk-container-id-7 div.sk-label.fitted input.sk-toggleable__control:checked~label.sk-toggleable__label {\n",
       "  background-color: var(--sklearn-color-fitted-level-2);\n",
       "}\n",
       "\n",
       "/* Estimator-specific style */\n",
       "\n",
       "/* Colorize estimator box */\n",
       "#sk-container-id-7 div.sk-estimator input.sk-toggleable__control:checked~label.sk-toggleable__label {\n",
       "  /* unfitted */\n",
       "  background-color: var(--sklearn-color-unfitted-level-2);\n",
       "}\n",
       "\n",
       "#sk-container-id-7 div.sk-estimator.fitted input.sk-toggleable__control:checked~label.sk-toggleable__label {\n",
       "  /* fitted */\n",
       "  background-color: var(--sklearn-color-fitted-level-2);\n",
       "}\n",
       "\n",
       "#sk-container-id-7 div.sk-label label.sk-toggleable__label,\n",
       "#sk-container-id-7 div.sk-label label {\n",
       "  /* The background is the default theme color */\n",
       "  color: var(--sklearn-color-text-on-default-background);\n",
       "}\n",
       "\n",
       "/* On hover, darken the color of the background */\n",
       "#sk-container-id-7 div.sk-label:hover label.sk-toggleable__label {\n",
       "  color: var(--sklearn-color-text);\n",
       "  background-color: var(--sklearn-color-unfitted-level-2);\n",
       "}\n",
       "\n",
       "/* Label box, darken color on hover, fitted */\n",
       "#sk-container-id-7 div.sk-label.fitted:hover label.sk-toggleable__label.fitted {\n",
       "  color: var(--sklearn-color-text);\n",
       "  background-color: var(--sklearn-color-fitted-level-2);\n",
       "}\n",
       "\n",
       "/* Estimator label */\n",
       "\n",
       "#sk-container-id-7 div.sk-label label {\n",
       "  font-family: monospace;\n",
       "  font-weight: bold;\n",
       "  display: inline-block;\n",
       "  line-height: 1.2em;\n",
       "}\n",
       "\n",
       "#sk-container-id-7 div.sk-label-container {\n",
       "  text-align: center;\n",
       "}\n",
       "\n",
       "/* Estimator-specific */\n",
       "#sk-container-id-7 div.sk-estimator {\n",
       "  font-family: monospace;\n",
       "  border: 1px dotted var(--sklearn-color-border-box);\n",
       "  border-radius: 0.25em;\n",
       "  box-sizing: border-box;\n",
       "  margin-bottom: 0.5em;\n",
       "  /* unfitted */\n",
       "  background-color: var(--sklearn-color-unfitted-level-0);\n",
       "}\n",
       "\n",
       "#sk-container-id-7 div.sk-estimator.fitted {\n",
       "  /* fitted */\n",
       "  background-color: var(--sklearn-color-fitted-level-0);\n",
       "}\n",
       "\n",
       "/* on hover */\n",
       "#sk-container-id-7 div.sk-estimator:hover {\n",
       "  /* unfitted */\n",
       "  background-color: var(--sklearn-color-unfitted-level-2);\n",
       "}\n",
       "\n",
       "#sk-container-id-7 div.sk-estimator.fitted:hover {\n",
       "  /* fitted */\n",
       "  background-color: var(--sklearn-color-fitted-level-2);\n",
       "}\n",
       "\n",
       "/* Specification for estimator info (e.g. \"i\" and \"?\") */\n",
       "\n",
       "/* Common style for \"i\" and \"?\" */\n",
       "\n",
       ".sk-estimator-doc-link,\n",
       "a:link.sk-estimator-doc-link,\n",
       "a:visited.sk-estimator-doc-link {\n",
       "  float: right;\n",
       "  font-size: smaller;\n",
       "  line-height: 1em;\n",
       "  font-family: monospace;\n",
       "  background-color: var(--sklearn-color-background);\n",
       "  border-radius: 1em;\n",
       "  height: 1em;\n",
       "  width: 1em;\n",
       "  text-decoration: none !important;\n",
       "  margin-left: 1ex;\n",
       "  /* unfitted */\n",
       "  border: var(--sklearn-color-unfitted-level-1) 1pt solid;\n",
       "  color: var(--sklearn-color-unfitted-level-1);\n",
       "}\n",
       "\n",
       ".sk-estimator-doc-link.fitted,\n",
       "a:link.sk-estimator-doc-link.fitted,\n",
       "a:visited.sk-estimator-doc-link.fitted {\n",
       "  /* fitted */\n",
       "  border: var(--sklearn-color-fitted-level-1) 1pt solid;\n",
       "  color: var(--sklearn-color-fitted-level-1);\n",
       "}\n",
       "\n",
       "/* On hover */\n",
       "div.sk-estimator:hover .sk-estimator-doc-link:hover,\n",
       ".sk-estimator-doc-link:hover,\n",
       "div.sk-label-container:hover .sk-estimator-doc-link:hover,\n",
       ".sk-estimator-doc-link:hover {\n",
       "  /* unfitted */\n",
       "  background-color: var(--sklearn-color-unfitted-level-3);\n",
       "  color: var(--sklearn-color-background);\n",
       "  text-decoration: none;\n",
       "}\n",
       "\n",
       "div.sk-estimator.fitted:hover .sk-estimator-doc-link.fitted:hover,\n",
       ".sk-estimator-doc-link.fitted:hover,\n",
       "div.sk-label-container:hover .sk-estimator-doc-link.fitted:hover,\n",
       ".sk-estimator-doc-link.fitted:hover {\n",
       "  /* fitted */\n",
       "  background-color: var(--sklearn-color-fitted-level-3);\n",
       "  color: var(--sklearn-color-background);\n",
       "  text-decoration: none;\n",
       "}\n",
       "\n",
       "/* Span, style for the box shown on hovering the info icon */\n",
       ".sk-estimator-doc-link span {\n",
       "  display: none;\n",
       "  z-index: 9999;\n",
       "  position: relative;\n",
       "  font-weight: normal;\n",
       "  right: .2ex;\n",
       "  padding: .5ex;\n",
       "  margin: .5ex;\n",
       "  width: min-content;\n",
       "  min-width: 20ex;\n",
       "  max-width: 50ex;\n",
       "  color: var(--sklearn-color-text);\n",
       "  box-shadow: 2pt 2pt 4pt #999;\n",
       "  /* unfitted */\n",
       "  background: var(--sklearn-color-unfitted-level-0);\n",
       "  border: .5pt solid var(--sklearn-color-unfitted-level-3);\n",
       "}\n",
       "\n",
       ".sk-estimator-doc-link.fitted span {\n",
       "  /* fitted */\n",
       "  background: var(--sklearn-color-fitted-level-0);\n",
       "  border: var(--sklearn-color-fitted-level-3);\n",
       "}\n",
       "\n",
       ".sk-estimator-doc-link:hover span {\n",
       "  display: block;\n",
       "}\n",
       "\n",
       "/* \"?\"-specific style due to the `<a>` HTML tag */\n",
       "\n",
       "#sk-container-id-7 a.estimator_doc_link {\n",
       "  float: right;\n",
       "  font-size: 1rem;\n",
       "  line-height: 1em;\n",
       "  font-family: monospace;\n",
       "  background-color: var(--sklearn-color-background);\n",
       "  border-radius: 1rem;\n",
       "  height: 1rem;\n",
       "  width: 1rem;\n",
       "  text-decoration: none;\n",
       "  /* unfitted */\n",
       "  color: var(--sklearn-color-unfitted-level-1);\n",
       "  border: var(--sklearn-color-unfitted-level-1) 1pt solid;\n",
       "}\n",
       "\n",
       "#sk-container-id-7 a.estimator_doc_link.fitted {\n",
       "  /* fitted */\n",
       "  border: var(--sklearn-color-fitted-level-1) 1pt solid;\n",
       "  color: var(--sklearn-color-fitted-level-1);\n",
       "}\n",
       "\n",
       "/* On hover */\n",
       "#sk-container-id-7 a.estimator_doc_link:hover {\n",
       "  /* unfitted */\n",
       "  background-color: var(--sklearn-color-unfitted-level-3);\n",
       "  color: var(--sklearn-color-background);\n",
       "  text-decoration: none;\n",
       "}\n",
       "\n",
       "#sk-container-id-7 a.estimator_doc_link.fitted:hover {\n",
       "  /* fitted */\n",
       "  background-color: var(--sklearn-color-fitted-level-3);\n",
       "}\n",
       "</style><div id=\"sk-container-id-7\" class=\"sk-top-container\"><div class=\"sk-text-repr-fallback\"><pre>GridSearchCV(estimator=Pipeline(steps=[(&#x27;transformer&#x27;,\n",
       "                                        ColumnTransformer(remainder=StandardScaler(),\n",
       "                                                          transformers=[(&#x27;onehotencoder&#x27;,\n",
       "                                                                         OneHotEncoder(),\n",
       "                                                                         [&#x27;job&#x27;,\n",
       "                                                                          &#x27;marital&#x27;,\n",
       "                                                                          &#x27;contact&#x27;,\n",
       "                                                                          &#x27;default&#x27;,\n",
       "                                                                          &#x27;housing&#x27;,\n",
       "                                                                          &#x27;loan&#x27;,\n",
       "                                                                          &#x27;month&#x27;,\n",
       "                                                                          &#x27;poutcome&#x27;]),\n",
       "                                                                        (&#x27;ordinalencoder&#x27;,\n",
       "                                                                         OrdinalEncoder(categories=[[&#x27;illiterate&#x27;,\n",
       "                                                                                                     &#x27;basic.4y&#x27;,\n",
       "                                                                                                     &#x27;basic.6y&#x27;,\n",
       "                                                                                                     &#x27;basic.9y&#x27;,\n",
       "                                                                                                     &#x27;high.school&#x27;,\n",
       "                                                                                                     &#x27;university.degree&#x27;,\n",
       "                                                                                                     &#x27;pr...\n",
       "                                                              1, 10, 100],\n",
       "                          &#x27;feature_selection__estimator__penalty&#x27;: [&#x27;l1&#x27;, &#x27;l2&#x27;],\n",
       "                          &#x27;feature_selection__estimator__solver&#x27;: [&#x27;liblinear&#x27;]},\n",
       "                         {&#x27;classifier__C&#x27;: [0.001, 0.01, 0.1, 1, 10, 100],\n",
       "                          &#x27;feature_selection__estimator__C&#x27;: [0.001, 0.01, 0.1,\n",
       "                                                              1, 10, 100],\n",
       "                          &#x27;feature_selection__estimator__penalty&#x27;: [&#x27;None&#x27;,\n",
       "                                                                    &#x27;l2&#x27;],\n",
       "                          &#x27;feature_selection__estimator__solver&#x27;: [&#x27;lbfgs&#x27;,\n",
       "                                                                   &#x27;newton-cg&#x27;,\n",
       "                                                                   &#x27;newton-cholesky&#x27;]}])</pre><b>In a Jupyter environment, please rerun this cell to show the HTML representation or trust the notebook. <br />On GitHub, the HTML representation is unable to render, please try loading this page with nbviewer.org.</b></div><div class=\"sk-container\" hidden><div class=\"sk-item sk-dashed-wrapped\"><div class=\"sk-label-container\"><div class=\"sk-label fitted sk-toggleable\"><input class=\"sk-toggleable__control sk-hidden--visually\" id=\"sk-estimator-id-64\" type=\"checkbox\" ><label for=\"sk-estimator-id-64\" class=\"sk-toggleable__label fitted sk-toggleable__label-arrow fitted\">&nbsp;&nbsp;GridSearchCV<a class=\"sk-estimator-doc-link fitted\" rel=\"noreferrer\" target=\"_blank\" href=\"https://scikit-learn.org/1.5/modules/generated/sklearn.model_selection.GridSearchCV.html\">?<span>Documentation for GridSearchCV</span></a><span class=\"sk-estimator-doc-link fitted\">i<span>Fitted</span></span></label><div class=\"sk-toggleable__content fitted\"><pre>GridSearchCV(estimator=Pipeline(steps=[(&#x27;transformer&#x27;,\n",
       "                                        ColumnTransformer(remainder=StandardScaler(),\n",
       "                                                          transformers=[(&#x27;onehotencoder&#x27;,\n",
       "                                                                         OneHotEncoder(),\n",
       "                                                                         [&#x27;job&#x27;,\n",
       "                                                                          &#x27;marital&#x27;,\n",
       "                                                                          &#x27;contact&#x27;,\n",
       "                                                                          &#x27;default&#x27;,\n",
       "                                                                          &#x27;housing&#x27;,\n",
       "                                                                          &#x27;loan&#x27;,\n",
       "                                                                          &#x27;month&#x27;,\n",
       "                                                                          &#x27;poutcome&#x27;]),\n",
       "                                                                        (&#x27;ordinalencoder&#x27;,\n",
       "                                                                         OrdinalEncoder(categories=[[&#x27;illiterate&#x27;,\n",
       "                                                                                                     &#x27;basic.4y&#x27;,\n",
       "                                                                                                     &#x27;basic.6y&#x27;,\n",
       "                                                                                                     &#x27;basic.9y&#x27;,\n",
       "                                                                                                     &#x27;high.school&#x27;,\n",
       "                                                                                                     &#x27;university.degree&#x27;,\n",
       "                                                                                                     &#x27;pr...\n",
       "                                                              1, 10, 100],\n",
       "                          &#x27;feature_selection__estimator__penalty&#x27;: [&#x27;l1&#x27;, &#x27;l2&#x27;],\n",
       "                          &#x27;feature_selection__estimator__solver&#x27;: [&#x27;liblinear&#x27;]},\n",
       "                         {&#x27;classifier__C&#x27;: [0.001, 0.01, 0.1, 1, 10, 100],\n",
       "                          &#x27;feature_selection__estimator__C&#x27;: [0.001, 0.01, 0.1,\n",
       "                                                              1, 10, 100],\n",
       "                          &#x27;feature_selection__estimator__penalty&#x27;: [&#x27;None&#x27;,\n",
       "                                                                    &#x27;l2&#x27;],\n",
       "                          &#x27;feature_selection__estimator__solver&#x27;: [&#x27;lbfgs&#x27;,\n",
       "                                                                   &#x27;newton-cg&#x27;,\n",
       "                                                                   &#x27;newton-cholesky&#x27;]}])</pre></div> </div></div><div class=\"sk-parallel\"><div class=\"sk-parallel-item\"><div class=\"sk-item\"><div class=\"sk-label-container\"><div class=\"sk-label fitted sk-toggleable\"><input class=\"sk-toggleable__control sk-hidden--visually\" id=\"sk-estimator-id-65\" type=\"checkbox\" ><label for=\"sk-estimator-id-65\" class=\"sk-toggleable__label fitted sk-toggleable__label-arrow fitted\">best_estimator_: Pipeline</label><div class=\"sk-toggleable__content fitted\"><pre>Pipeline(steps=[(&#x27;transformer&#x27;,\n",
       "                 ColumnTransformer(remainder=StandardScaler(),\n",
       "                                   transformers=[(&#x27;onehotencoder&#x27;,\n",
       "                                                  OneHotEncoder(),\n",
       "                                                  [&#x27;job&#x27;, &#x27;marital&#x27;, &#x27;contact&#x27;,\n",
       "                                                   &#x27;default&#x27;, &#x27;housing&#x27;, &#x27;loan&#x27;,\n",
       "                                                   &#x27;month&#x27;, &#x27;poutcome&#x27;]),\n",
       "                                                 (&#x27;ordinalencoder&#x27;,\n",
       "                                                  OrdinalEncoder(categories=[[&#x27;illiterate&#x27;,\n",
       "                                                                              &#x27;basic.4y&#x27;,\n",
       "                                                                              &#x27;basic.6y&#x27;,\n",
       "                                                                              &#x27;basic.9y&#x27;,\n",
       "                                                                              &#x27;high.school&#x27;,\n",
       "                                                                              &#x27;university.degree&#x27;,\n",
       "                                                                              &#x27;professional.course&#x27;]],\n",
       "                                                                 handle_unknown=&#x27;use_encoded_value&#x27;,\n",
       "                                                                 unknown_value=-1),\n",
       "                                                  [&#x27;education&#x27;])])),\n",
       "                (&#x27;feature_selection&#x27;,\n",
       "                 SelectFromModel(estimator=LogisticRegression(C=0.1,\n",
       "                                                              max_iter=1000,\n",
       "                                                              random_state=43,\n",
       "                                                              solver=&#x27;newton-cg&#x27;))),\n",
       "                (&#x27;classifier&#x27;,\n",
       "                 LogisticRegression(C=100, class_weight=&#x27;balanced&#x27;,\n",
       "                                    max_iter=1000, random_state=43,\n",
       "                                    solver=&#x27;liblinear&#x27;))])</pre></div> </div></div><div class=\"sk-serial\"><div class=\"sk-item\"><div class=\"sk-serial\"><div class=\"sk-item sk-dashed-wrapped\"><div class=\"sk-label-container\"><div class=\"sk-label fitted sk-toggleable\"><input class=\"sk-toggleable__control sk-hidden--visually\" id=\"sk-estimator-id-66\" type=\"checkbox\" ><label for=\"sk-estimator-id-66\" class=\"sk-toggleable__label fitted sk-toggleable__label-arrow fitted\">&nbsp;transformer: ColumnTransformer<a class=\"sk-estimator-doc-link fitted\" rel=\"noreferrer\" target=\"_blank\" href=\"https://scikit-learn.org/1.5/modules/generated/sklearn.compose.ColumnTransformer.html\">?<span>Documentation for transformer: ColumnTransformer</span></a></label><div class=\"sk-toggleable__content fitted\"><pre>ColumnTransformer(remainder=StandardScaler(),\n",
       "                  transformers=[(&#x27;onehotencoder&#x27;, OneHotEncoder(),\n",
       "                                 [&#x27;job&#x27;, &#x27;marital&#x27;, &#x27;contact&#x27;, &#x27;default&#x27;,\n",
       "                                  &#x27;housing&#x27;, &#x27;loan&#x27;, &#x27;month&#x27;, &#x27;poutcome&#x27;]),\n",
       "                                (&#x27;ordinalencoder&#x27;,\n",
       "                                 OrdinalEncoder(categories=[[&#x27;illiterate&#x27;,\n",
       "                                                             &#x27;basic.4y&#x27;,\n",
       "                                                             &#x27;basic.6y&#x27;,\n",
       "                                                             &#x27;basic.9y&#x27;,\n",
       "                                                             &#x27;high.school&#x27;,\n",
       "                                                             &#x27;university.degree&#x27;,\n",
       "                                                             &#x27;professional.course&#x27;]],\n",
       "                                                handle_unknown=&#x27;use_encoded_value&#x27;,\n",
       "                                                unknown_value=-1),\n",
       "                                 [&#x27;education&#x27;])])</pre></div> </div></div><div class=\"sk-parallel\"><div class=\"sk-parallel-item\"><div class=\"sk-item\"><div class=\"sk-label-container\"><div class=\"sk-label fitted sk-toggleable\"><input class=\"sk-toggleable__control sk-hidden--visually\" id=\"sk-estimator-id-67\" type=\"checkbox\" ><label for=\"sk-estimator-id-67\" class=\"sk-toggleable__label fitted sk-toggleable__label-arrow fitted\">onehotencoder</label><div class=\"sk-toggleable__content fitted\"><pre>[&#x27;job&#x27;, &#x27;marital&#x27;, &#x27;contact&#x27;, &#x27;default&#x27;, &#x27;housing&#x27;, &#x27;loan&#x27;, &#x27;month&#x27;, &#x27;poutcome&#x27;]</pre></div> </div></div><div class=\"sk-serial\"><div class=\"sk-item\"><div class=\"sk-estimator fitted sk-toggleable\"><input class=\"sk-toggleable__control sk-hidden--visually\" id=\"sk-estimator-id-68\" type=\"checkbox\" ><label for=\"sk-estimator-id-68\" class=\"sk-toggleable__label fitted sk-toggleable__label-arrow fitted\">&nbsp;OneHotEncoder<a class=\"sk-estimator-doc-link fitted\" rel=\"noreferrer\" target=\"_blank\" href=\"https://scikit-learn.org/1.5/modules/generated/sklearn.preprocessing.OneHotEncoder.html\">?<span>Documentation for OneHotEncoder</span></a></label><div class=\"sk-toggleable__content fitted\"><pre>OneHotEncoder()</pre></div> </div></div></div></div></div><div class=\"sk-parallel-item\"><div class=\"sk-item\"><div class=\"sk-label-container\"><div class=\"sk-label fitted sk-toggleable\"><input class=\"sk-toggleable__control sk-hidden--visually\" id=\"sk-estimator-id-69\" type=\"checkbox\" ><label for=\"sk-estimator-id-69\" class=\"sk-toggleable__label fitted sk-toggleable__label-arrow fitted\">ordinalencoder</label><div class=\"sk-toggleable__content fitted\"><pre>[&#x27;education&#x27;]</pre></div> </div></div><div class=\"sk-serial\"><div class=\"sk-item\"><div class=\"sk-estimator fitted sk-toggleable\"><input class=\"sk-toggleable__control sk-hidden--visually\" id=\"sk-estimator-id-70\" type=\"checkbox\" ><label for=\"sk-estimator-id-70\" class=\"sk-toggleable__label fitted sk-toggleable__label-arrow fitted\">&nbsp;OrdinalEncoder<a class=\"sk-estimator-doc-link fitted\" rel=\"noreferrer\" target=\"_blank\" href=\"https://scikit-learn.org/1.5/modules/generated/sklearn.preprocessing.OrdinalEncoder.html\">?<span>Documentation for OrdinalEncoder</span></a></label><div class=\"sk-toggleable__content fitted\"><pre>OrdinalEncoder(categories=[[&#x27;illiterate&#x27;, &#x27;basic.4y&#x27;, &#x27;basic.6y&#x27;, &#x27;basic.9y&#x27;,\n",
       "                            &#x27;high.school&#x27;, &#x27;university.degree&#x27;,\n",
       "                            &#x27;professional.course&#x27;]],\n",
       "               handle_unknown=&#x27;use_encoded_value&#x27;, unknown_value=-1)</pre></div> </div></div></div></div></div><div class=\"sk-parallel-item\"><div class=\"sk-item\"><div class=\"sk-label-container\"><div class=\"sk-label fitted sk-toggleable\"><input class=\"sk-toggleable__control sk-hidden--visually\" id=\"sk-estimator-id-71\" type=\"checkbox\" ><label for=\"sk-estimator-id-71\" class=\"sk-toggleable__label fitted sk-toggleable__label-arrow fitted\">remainder</label><div class=\"sk-toggleable__content fitted\"><pre>[&#x27;age&#x27;, &#x27;duration&#x27;, &#x27;campaign&#x27;, &#x27;previous&#x27;, &#x27;emp.var.rate&#x27;, &#x27;cons.price.idx&#x27;, &#x27;cons.conf.idx&#x27;, &#x27;euribor3m&#x27;, &#x27;nr.employed&#x27;, &#x27;balance&#x27;, &#x27;day&#x27;, &#x27;balance_transform&#x27;]</pre></div> </div></div><div class=\"sk-serial\"><div class=\"sk-item\"><div class=\"sk-estimator fitted sk-toggleable\"><input class=\"sk-toggleable__control sk-hidden--visually\" id=\"sk-estimator-id-72\" type=\"checkbox\" ><label for=\"sk-estimator-id-72\" class=\"sk-toggleable__label fitted sk-toggleable__label-arrow fitted\">&nbsp;StandardScaler<a class=\"sk-estimator-doc-link fitted\" rel=\"noreferrer\" target=\"_blank\" href=\"https://scikit-learn.org/1.5/modules/generated/sklearn.preprocessing.StandardScaler.html\">?<span>Documentation for StandardScaler</span></a></label><div class=\"sk-toggleable__content fitted\"><pre>StandardScaler()</pre></div> </div></div></div></div></div></div></div><div class=\"sk-item sk-dashed-wrapped\"><div class=\"sk-label-container\"><div class=\"sk-label fitted sk-toggleable\"><input class=\"sk-toggleable__control sk-hidden--visually\" id=\"sk-estimator-id-73\" type=\"checkbox\" ><label for=\"sk-estimator-id-73\" class=\"sk-toggleable__label fitted sk-toggleable__label-arrow fitted\">&nbsp;feature_selection: SelectFromModel<a class=\"sk-estimator-doc-link fitted\" rel=\"noreferrer\" target=\"_blank\" href=\"https://scikit-learn.org/1.5/modules/generated/sklearn.feature_selection.SelectFromModel.html\">?<span>Documentation for feature_selection: SelectFromModel</span></a></label><div class=\"sk-toggleable__content fitted\"><pre>SelectFromModel(estimator=LogisticRegression(C=0.1, max_iter=1000,\n",
       "                                             random_state=43,\n",
       "                                             solver=&#x27;newton-cg&#x27;))</pre></div> </div></div><div class=\"sk-parallel\"><div class=\"sk-parallel-item\"><div class=\"sk-item\"><div class=\"sk-label-container\"><div class=\"sk-label fitted sk-toggleable\"><input class=\"sk-toggleable__control sk-hidden--visually\" id=\"sk-estimator-id-74\" type=\"checkbox\" ><label for=\"sk-estimator-id-74\" class=\"sk-toggleable__label fitted sk-toggleable__label-arrow fitted\">estimator: LogisticRegression</label><div class=\"sk-toggleable__content fitted\"><pre>LogisticRegression(C=0.1, max_iter=1000, random_state=43, solver=&#x27;newton-cg&#x27;)</pre></div> </div></div><div class=\"sk-serial\"><div class=\"sk-item\"><div class=\"sk-estimator fitted sk-toggleable\"><input class=\"sk-toggleable__control sk-hidden--visually\" id=\"sk-estimator-id-75\" type=\"checkbox\" ><label for=\"sk-estimator-id-75\" class=\"sk-toggleable__label fitted sk-toggleable__label-arrow fitted\">&nbsp;LogisticRegression<a class=\"sk-estimator-doc-link fitted\" rel=\"noreferrer\" target=\"_blank\" href=\"https://scikit-learn.org/1.5/modules/generated/sklearn.linear_model.LogisticRegression.html\">?<span>Documentation for LogisticRegression</span></a></label><div class=\"sk-toggleable__content fitted\"><pre>LogisticRegression(C=0.1, max_iter=1000, random_state=43, solver=&#x27;newton-cg&#x27;)</pre></div> </div></div></div></div></div></div></div><div class=\"sk-item\"><div class=\"sk-estimator fitted sk-toggleable\"><input class=\"sk-toggleable__control sk-hidden--visually\" id=\"sk-estimator-id-76\" type=\"checkbox\" ><label for=\"sk-estimator-id-76\" class=\"sk-toggleable__label fitted sk-toggleable__label-arrow fitted\">&nbsp;LogisticRegression<a class=\"sk-estimator-doc-link fitted\" rel=\"noreferrer\" target=\"_blank\" href=\"https://scikit-learn.org/1.5/modules/generated/sklearn.linear_model.LogisticRegression.html\">?<span>Documentation for LogisticRegression</span></a></label><div class=\"sk-toggleable__content fitted\"><pre>LogisticRegression(C=100, class_weight=&#x27;balanced&#x27;, max_iter=1000,\n",
       "                   random_state=43, solver=&#x27;liblinear&#x27;)</pre></div> </div></div></div></div></div></div></div></div></div></div></div>"
      ],
      "text/plain": [
       "GridSearchCV(estimator=Pipeline(steps=[('transformer',\n",
       "                                        ColumnTransformer(remainder=StandardScaler(),\n",
       "                                                          transformers=[('onehotencoder',\n",
       "                                                                         OneHotEncoder(),\n",
       "                                                                         ['job',\n",
       "                                                                          'marital',\n",
       "                                                                          'contact',\n",
       "                                                                          'default',\n",
       "                                                                          'housing',\n",
       "                                                                          'loan',\n",
       "                                                                          'month',\n",
       "                                                                          'poutcome']),\n",
       "                                                                        ('ordinalencoder',\n",
       "                                                                         OrdinalEncoder(categories=[['illiterate',\n",
       "                                                                                                     'basic.4y',\n",
       "                                                                                                     'basic.6y',\n",
       "                                                                                                     'basic.9y',\n",
       "                                                                                                     'high.school',\n",
       "                                                                                                     'university.degree',\n",
       "                                                                                                     'pr...\n",
       "                                                              1, 10, 100],\n",
       "                          'feature_selection__estimator__penalty': ['l1', 'l2'],\n",
       "                          'feature_selection__estimator__solver': ['liblinear']},\n",
       "                         {'classifier__C': [0.001, 0.01, 0.1, 1, 10, 100],\n",
       "                          'feature_selection__estimator__C': [0.001, 0.01, 0.1,\n",
       "                                                              1, 10, 100],\n",
       "                          'feature_selection__estimator__penalty': ['None',\n",
       "                                                                    'l2'],\n",
       "                          'feature_selection__estimator__solver': ['lbfgs',\n",
       "                                                                   'newton-cg',\n",
       "                                                                   'newton-cholesky']}])"
      ]
     },
     "execution_count": 152,
     "metadata": {},
     "output_type": "execute_result"
    }
   ],
   "source": [
    "cv.fit(X_train, y_train)"
   ]
  },
  {
   "cell_type": "code",
   "execution_count": 153,
   "id": "aed038e1-35b7-4c45-bcf5-250595653a2a",
   "metadata": {},
   "outputs": [
    {
     "name": "stdout",
     "output_type": "stream",
     "text": [
      "{'classifier__C': 100,\n",
      " 'feature_selection__estimator__C': 0.1,\n",
      " 'feature_selection__estimator__penalty': 'l2',\n",
      " 'feature_selection__estimator__solver': 'newton-cg'}\n"
     ]
    }
   ],
   "source": [
    "pprint(cv.best_params_)"
   ]
  },
  {
   "cell_type": "markdown",
   "id": "1ff9accf-333d-4282-8d95-aa356aa9c93b",
   "metadata": {},
   "source": [
    "# 6. Predictions"
   ]
  },
  {
   "cell_type": "code",
   "execution_count": 160,
   "id": "ffef5b3a-9b07-4061-a7f3-bcac84a6b886",
   "metadata": {},
   "outputs": [],
   "source": [
    "y_test_pred_2 = cv.predict(X_test)"
   ]
  },
  {
   "cell_type": "markdown",
   "id": "774e8c96-4a49-4f8d-a09e-290869cb61dd",
   "metadata": {},
   "source": [
    "# 7. Scoring"
   ]
  },
  {
   "cell_type": "markdown",
   "id": "902bcd1a-d1b1-4be4-afdf-0597af8fcc66",
   "metadata": {},
   "source": [
    "### 7.1 Accuracy\n",
    "Q) Out of the predictions made by the model, what percent is correct?\n",
    "<div align=\"center\">\n",
    "$Accuracy =\\Large \\frac{(TP+TN))}{(TP+TN+FP+FN)}$\n",
    "</div>"
   ]
  },
  {
   "cell_type": "code",
   "execution_count": 161,
   "id": "1e42069c-e8e4-4cbd-9fec-0162ad04d01d",
   "metadata": {},
   "outputs": [
    {
     "name": "stdout",
     "output_type": "stream",
     "text": [
      "Accuracy: 0.9833292870437809\n"
     ]
    }
   ],
   "source": [
    "accuracy = accuracy_score(y_test_pred_2, y_pred)\n",
    "print(\"Accuracy:\", accuracy)"
   ]
  },
  {
   "cell_type": "markdown",
   "id": "616794cc-0100-492d-aa65-568aa96ec309",
   "metadata": {},
   "source": [
    "### 7.2 Precision Score\n",
    "Q) Out of all the YES predictions, how many of them were correct?\n",
    "<div align=\"center\">\n",
    "$Precision = \\Large\\frac{TP}{TP+FP}$\n",
    "</div>"
   ]
  },
  {
   "cell_type": "code",
   "execution_count": 162,
   "id": "813c9c89-aeaf-4b43-bd92-5c6e3a6f7130",
   "metadata": {},
   "outputs": [
    {
     "name": "stdout",
     "output_type": "stream",
     "text": [
      "Precision Score: 0.9600706713780919\n"
     ]
    }
   ],
   "source": [
    "p_score = precision_score(y_test_pred_2, y_pred,pos_label='yes')\n",
    "print(\"Precision Score:\", p_score)"
   ]
  },
  {
   "cell_type": "markdown",
   "id": "3c8c323b-50f6-4677-aa51-0fae337001cb",
   "metadata": {},
   "source": [
    "### 7.3 Recall Score\n",
    "Q) Of all the actual positive cases, how many did the model capture?\n",
    "<div align=\"center\">\n",
    "$Recall = \\Large\\frac{TP}{TP+FN}$\n",
    "</div>"
   ]
  },
  {
   "cell_type": "code",
   "execution_count": 163,
   "id": "715cfee8-5835-48b8-bb53-398ffbf7d701",
   "metadata": {},
   "outputs": [
    {
     "name": "stdout",
     "output_type": "stream",
     "text": [
      "Recall Score 0.9669039145907473\n"
     ]
    }
   ],
   "source": [
    "r_score = recall_score(y_test_pred_2, y_pred,pos_label='yes')\n",
    "print(\"Recall Score\", r_score)"
   ]
  },
  {
   "cell_type": "markdown",
   "id": "f29a23b3-4f1e-44af-90fb-a0bef1453c40",
   "metadata": {},
   "source": [
    "### 7.4 F1 Score\n",
    "<div align=\"center\">\n",
    "$F1 = \\Large\\frac{2*TP}{2*TP+FP+FN}$\n",
    "</div>"
   ]
  },
  {
   "cell_type": "code",
   "execution_count": 164,
   "id": "78d45518-3a9e-4812-b9b9-e2e9905c03c5",
   "metadata": {},
   "outputs": [
    {
     "name": "stdout",
     "output_type": "stream",
     "text": [
      "F1 Score 0.9634751773049646\n"
     ]
    }
   ],
   "source": [
    "f_1_score = f1_score(y_test_pred_2, y_pred, pos_label='yes')\n",
    "print(\"F1 Score\", f_1_score)"
   ]
  },
  {
   "cell_type": "code",
   "execution_count": 165,
   "id": "1c6564ac-df71-49a1-a940-d334f25ebdd8",
   "metadata": {},
   "outputs": [
    {
     "data": {
      "image/png": "[encoded data removed]",
      "text/plain": [
       "<Figure size 640x480 with 2 Axes>"
      ]
     },
     "metadata": {},
     "output_type": "display_data"
    }
   ],
   "source": [
    "ConfusionMatrixDisplay.from_predictions(y_test_pred_2, y_pred);"
   ]
  },
  {
   "cell_type": "code",
   "execution_count": 166,
   "id": "c295b347-81ef-48b9-8b5c-e8f332d670fc",
   "metadata": {},
   "outputs": [],
   "source": [
    "best_pipeline = cv.best_estimator_"
   ]
  },
  {
   "cell_type": "code",
   "execution_count": 167,
   "id": "519a0df0-ec20-429a-9114-e19ea0e01e30",
   "metadata": {},
   "outputs": [],
   "source": [
    "feature_selector = best_pipeline.named_steps['feature_selection']"
   ]
  },
  {
   "cell_type": "code",
   "execution_count": 168,
   "id": "24e5f20e-3cab-4644-979b-ac1e19390140",
   "metadata": {},
   "outputs": [],
   "source": [
    "selected_mask = feature_selector.get_support()"
   ]
  },
  {
   "cell_type": "code",
   "execution_count": 169,
   "id": "a0a23a2d-1db1-4365-82d7-e86c45c70840",
   "metadata": {},
   "outputs": [
    {
     "name": "stdout",
     "output_type": "stream",
     "text": [
      "['x16' 'x17' 'x28' 'x32' 'x33' 'x34' 'x37' 'x39' 'x42' 'x45' 'x46' 'x48'\n",
      " 'x49']\n"
     ]
    }
   ],
   "source": [
    "print(feature_selector.get_feature_names_out())"
   ]
  },
  {
   "cell_type": "code",
   "execution_count": 170,
   "id": "5a8c26b8-a108-422a-bc17-5fe13011ba35",
   "metadata": {},
   "outputs": [],
   "source": [
    "transformer = best_pipeline.named_steps['transformer']"
   ]
  },
  {
   "cell_type": "code",
   "execution_count": 171,
   "id": "87d20fdb-5d6f-40f8-95dd-b16f1a213b52",
   "metadata": {},
   "outputs": [],
   "source": [
    "transform_column = [' '.join(trans.split(\"__\")[1].split('_')) for trans in transformer.get_feature_names_out()]"
   ]
  },
  {
   "cell_type": "code",
   "execution_count": 172,
   "id": "0cd5b9b6-5861-4aa0-ad02-406781a6797e",
   "metadata": {},
   "outputs": [
    {
     "data": {
      "text/plain": [
       "13"
      ]
     },
     "execution_count": 172,
     "metadata": {},
     "output_type": "execute_result"
    }
   ],
   "source": [
    "cols = [x for x, y in zip(transform_column, selected_mask) if y]\n",
    "len(cols)"
   ]
  },
  {
   "cell_type": "markdown",
   "id": "5135309c-2772-4c95-8314-c1757a7cae10",
   "metadata": {},
   "source": [
    "<div class=\"alert alert-block alert-success\">\n",
    "    <h3>Logistic Regression - Conclusion</h3>\n",
    "</div>"
   ]
  },
  {
   "cell_type": "markdown",
   "id": "9f1bd478-5654-4b26-a1d3-ec8638cc404e",
   "metadata": {},
   "source": [
    "- With the combinition of feature selection and LogisticRegression\n",
    "    - 13 columumns are picked after transformation \n",
    "    - Parameters which were picked were<br> \n",
    "        {'classifier__C': 100,<br>\n",
    "         'feature_selection__estimator__C': 0.1,<br>\n",
    "         'feature_selection__estimator__penalty': 'l2',<br>\n",
    "         'feature_selection__estimator__solver': 'newton-cg'}<br>\n",
    "- Scores are\n",
    "    - Accuracy Score:  0.9833292870437809\n",
    "    - Precision Score: 0.9600706713780919\n",
    "    - Recall Score     0.9669039145907473"
   ]
  }
 ],
 "metadata": {
  "kernelspec": {
   "display_name": "Python 3 (ipykernel)",
   "language": "python",
   "name": "python3"
  },
  "language_info": {
   "codemirror_mode": {
    "name": "ipython",
    "version": 3
   },
   "file_extension": ".py",
   "mimetype": "text/x-python",
   "name": "python",
   "nbconvert_exporter": "python",
   "pygments_lexer": "ipython3",
   "version": "3.11.9"
  }
 },
 "nbformat": 4,
 "nbformat_minor": 5
}
